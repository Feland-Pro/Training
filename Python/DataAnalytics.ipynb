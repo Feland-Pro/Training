{
 "cells": [
  {
   "cell_type": "markdown",
   "metadata": {},
   "source": [
    "## Basic EDA"
   ]
  },
  {
   "cell_type": "code",
   "execution_count": null,
   "metadata": {},
   "outputs": [],
   "source": [
    "\n",
    "x = df['Rating'].dropna()\n",
    "y = df['Size'].dropna()\n",
    "z = df['Installs'][df.Installs!=0].dropna()\n",
    "p = df['Reviews'][df.Reviews!=0].dropna()\n",
    "t = df['Type'].dropna()\n",
    "price = df['Price']\n",
    "\n",
    "p = sns.pairplot(pd.DataFrame(list(zip(x, y, np.log(z), np.log10(p), t, price)), \n",
    "                        columns=['Rating','Size', 'Installs', 'Reviews', 'Type', 'Price']), hue='Type', palette=\"Set2\")"
   ]
  },
  {
   "cell_type": "code",
   "execution_count": null,
   "metadata": {},
   "outputs": [],
   "source": [
    "##Conclusion \n",
    "\n",
    "df.shape #get size\n",
    "df.info() #get details / find is any nulls\n",
    "df.head(50)\n",
    "\n",
    "# check data convert failed cases \n",
    "df[pd.to_numeric(df.OriginPrice, errors= 'coerce').isna()]\n",
    "\n",
    "# convert a new data type and added to new column \n",
    "df['Price'] = pd.to_numeric(df.OriginPrice, errors= 'coerce')\n",
    "\n",
    "# deal with null value\n",
    "\n",
    "#check value \n",
    "df['Sex'].unique() # distinct \n",
    "df['Set'].value_count() # group by sex\n",
    "\n",
    "#check unnormal value  \n",
    "df[df['Age']> 100]\n",
    "df[df['Price'].isna()]['OriginPrice'].unique() \n",
    "\n",
    "#invalid data solution \n",
    "#solution 1 drop invalid data \n",
    "df_cleaned = df.drop(pd.to_datetime(['2017-12-28', '2018-03-04']))\n",
    "#solution 2 replace value \n",
    "df.loc[df['Age'] > 100, 'Age'] = df.loc[df['Age'] > 100, 'Age'] / 10\n",
    "(Rating , InstallInt, PriceInt) = (cutOffLine[\"Rating\"], cutOffLine[\"InstallsInt\"], cutOffLine[\"PriceInt\"])\n",
    "apps.loc[apps[\"Rating\"]>=float(Rating)]\n",
    "\n",
    "df.duplicated(subset=['Name'], keep = 'last') # find if any duplicate value\n",
    "\n",
    "\n",
    "#Sort \n",
    "df.sort_index(ascending=False)\n",
    "df.sort_values(by='col1', ascending=False, na_position='first')\n",
    "i = 10\n",
    "apps[\"Rank\"]= apps[[\"Rating\", \"InstallsInt\", \"PriceInt\"]].apply(tuple, axis=1).rank(method = 'min', ascending = False).astype(int)\n",
    "sortedApp = apps[apps[\"Rank\"]<=i].sort_values(by = ['Rank'], ascending=[True])\n",
    "\n",
    "# show certain loc\n",
    "\n",
    "\n",
    "#show meth analse \n",
    "df.mean()\n",
    "df.median()\n",
    "#show picture \n",
    "df.plot(kind=\"density\", y = \"Ether\", xlim  =[0, 1400])\n",
    "df.plot(kind=\"hist\", y = \"Ether\", xlim  =[0, 1400], bins  = 150 ) # https://pandas.pydata.org/docs/reference/api/pandas.DataFrame.plot.hist.html\n"
   ]
  },
  {
   "cell_type": "markdown",
   "metadata": {},
   "source": [
    "## DataType"
   ]
  },
  {
   "cell_type": "code",
   "execution_count": null,
   "metadata": {},
   "outputs": [],
   "source": [
    "# find non numeirc value \n",
    "pd.to_numeric(df.Price, errors= 'coerce').fillna(0.0) \n",
    "df.apply(pd.to_numeric, errors='coerce').dropna(axis=1)\n"
   ]
  },
  {
   "cell_type": "markdown",
   "metadata": {},
   "source": [
    "## Create df"
   ]
  },
  {
   "cell_type": "code",
   "execution_count": null,
   "metadata": {},
   "outputs": [],
   "source": [
    "ambassadors = pd.Series([\n",
    "    'France',\n",
    "    'United Kingdom',\n",
    "    'United Kingdom',\n",
    "    'Italy',\n",
    "    'Germany',\n",
    "    'Germany',\n",
    "    'Germany',\n",
    "], index=[\n",
    "    'Gérard Araud',\n",
    "    'Kim Darroch',\n",
    "    'Peter Westmacott',\n",
    "    'Armando Varricchio',\n",
    "    'Peter Wittig',\n",
    "    'Peter Ammon',\n",
    "    'Klaus Scharioth '\n",
    "])"
   ]
  },
  {
   "cell_type": "markdown",
   "metadata": {},
   "source": [
    "## Check duplicate"
   ]
  },
  {
   "cell_type": "code",
   "execution_count": null,
   "metadata": {},
   "outputs": [],
   "source": [
    "## Check duplicate\n",
    "ambassadors.duplicated()\n",
    "ambassadors.duplicated(keep='last') # show others as ture, except the last duplicate element as false\n",
    "ambassadors.duplicated(keep=False) # make all duplicate values as false\n",
    "\n",
    "# deal with duplicated \n",
    "ambassadors.drop_duplicates()\n",
    "ambassadors.drop_duplicates(keep='last')\n",
    "ambassadors.drop_duplicates(keep=False)\n",
    "players.drop_duplicates(subset=['Name'], keep='last')"
   ]
  },
  {
   "cell_type": "markdown",
   "metadata": {},
   "source": [
    "## String \n",
    "https://pandas.pydata.org/pandas-docs/stable/user_guide/text.html"
   ]
  },
  {
   "cell_type": "code",
   "execution_count": null,
   "metadata": {},
   "outputs": [],
   "source": [
    "# Contains\n",
    "df['Year'].str.contains('\\?')  # is has invalid ? \n",
    "\n",
    "# String has space \n",
    "df['Country'].str.strip()\n",
    "df['Country'].str.replace(' ', '')\n",
    "\n",
    "#regular expressions  regex patterns\n",
    "df['Year'].str.replace(r'(?P<year>\\d{4})\\?', lambda m: m.group('year'))"
   ]
  },
  {
   "cell_type": "markdown",
   "metadata": {},
   "source": [
    "## regular expressions\n",
    "regex patterns"
   ]
  },
  {
   "cell_type": "code",
   "execution_count": null,
   "metadata": {},
   "outputs": [],
   "source": [
    "df['Year'].str.replace(r'(?P<year>\\d{4})\\?', lambda m: m.group('year'))"
   ]
  },
  {
   "cell_type": "markdown",
   "metadata": {},
   "source": [
    "## Check null "
   ]
  },
  {
   "cell_type": "code",
   "execution_count": null,
   "metadata": {},
   "outputs": [],
   "source": []
  },
  {
   "cell_type": "markdown",
   "metadata": {},
   "source": [
    "## Check distinct \n",
    "movies.country.unique()\n",
    "df['Sex'].unique()"
   ]
  },
  {
   "cell_type": "markdown",
   "metadata": {},
   "source": [
    "## Clean data --"
   ]
  },
  {
   "cell_type": "code",
   "execution_count": null,
   "metadata": {},
   "outputs": [],
   "source": [
    "df.loc[df['Age'] > 100, 'Age'] = df.loc[df['Age'] > 100, 'Age'] / 10\n",
    "df['Sex'].replace({'D': 'F', 'N': 'M'})\n",
    "df.replace({\n",
    "    'Sex': {\n",
    "        'D': 'F',\n",
    "        'N': 'M'\n",
    "    },\n",
    "    'Age': {\n",
    "        290: 29\n",
    "    }\n",
    "})\n",
    "\n",
    "df['Size'] = df['Size'].apply(lambda x: str(x).replace('Varies with device', 'NaN') if 'Varies with device' in str(x) else x)"
   ]
  },
  {
   "cell_type": "markdown",
   "metadata": {},
   "source": [
    "## Convert DataFram to Series "
   ]
  },
  {
   "cell_type": "code",
   "execution_count": null,
   "metadata": {},
   "outputs": [],
   "source": [
    "# using squeeze to convert to Series for one column DF\n",
    "exam_test_2 = pd.read_csv('exam_review.csv',\n",
    "                          sep='>',\n",
    "                          usecols=['last_name'],\n",
    "                          squeeze=True)"
   ]
  },
  {
   "cell_type": "code",
   "execution_count": null,
   "metadata": {},
   "outputs": [],
   "source": [
    "## Sort values \n",
    "\n",
    "playstore_df = playstore_df.sort_values('Rating', ascending=False).head(25)"
   ]
  },
  {
   "cell_type": "markdown",
   "metadata": {},
   "source": [
    "\n",
    "### Checking for `nan` or `inf`"
   ]
  },
  {
   "cell_type": "code",
   "execution_count": null,
   "metadata": {},
   "outputs": [],
   "source": [
    "#Drop null \n",
    "df.dropna() #drop row if has null\n",
    "df.dropna(axis=1) #drop column if has null , axis = 'columns' also works\n",
    "df.dropna(how='all') # drop if row if all column is null,  can also do how = 'any'\n",
    "df.dropna(thresh= 3) # a row must have at least 3 value, otherwise it will be dropped\n",
    "\n",
    "\n",
    "# fill null \n",
    "df.fillna(s.mean())\n",
    "df.fillna(method = 'ffill', axis = 0) # fill with the value before\n",
    "df.fillna(method = 'bfill', axis = 0) # fill with the value after \n",
    "\n",
    "\n",
    "#numpy \n",
    "np.isnan(np.nan)\n",
    "np.isinf(np.inf)\n",
    "np.isfinite(np.nan) # check is not number and not inf\n",
    "a[~np.isnan(a)] # return not null  ~ not \n",
    "\n",
    "\n",
    "#Pandas treat null as ignore when doing count, sum, avg\n",
    "pd.Series([1, 2, np.nan]).count()\n",
    "pd.Series([1, 2, np.nan]).sum()\n",
    "pd.Series([1, 2, np.nan]).mean()\n",
    "pd.isnull(np.nan) =  pd.isna(np.nan)\n",
    "df[pd.notnull(df)] \n",
    "df.dropna()"
   ]
  },
  {
   "cell_type": "markdown",
   "metadata": {},
   "source": [
    "## Otheres"
   ]
  },
  {
   "cell_type": "code",
   "execution_count": null,
   "metadata": {},
   "outputs": [],
   "source": [
    "pd.Series([True, False, False]).any()\n",
    "pd.Series([True, False, False]).all()"
   ]
  }
 ],
 "metadata": {
  "language_info": {
   "name": "python"
  },
  "orig_nbformat": 4
 },
 "nbformat": 4,
 "nbformat_minor": 2
}
