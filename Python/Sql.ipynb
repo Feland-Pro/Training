{
 "cells": [
  {
   "cell_type": "code",
   "execution_count": null,
   "metadata": {},
   "outputs": [],
   "source": [
    "import pyodbc \n",
    "server = 'localhost'\n",
    "database = 'test'\n",
    "dbUser = 'sa'\n",
    "dbPassword = 'YoudStrongPassWord'\n",
    "listOfTable = 'ddsdfaddafdafdafd'\n",
    "driver = '{ODBC Driver 17 for SQL Server}'"
   ]
  },
  {
   "cell_type": "markdown",
   "metadata": {},
   "source": [
    "### Read rows to file "
   ]
  },
  {
   "cell_type": "code",
   "execution_count": null,
   "metadata": {},
   "outputs": [],
   "source": [
    "conn = pyodbc.connect('DRIVER='+driver+';SERVER='+server+';DATABASE='+database+';UID='+dbUser+';PWD='+dbPassword)\n",
    "cursor = conn.cursor()\n",
    "listOfQueries = []\n",
    "for (s,t) in listOfTable: \n",
    "    query = \"exec tools.sp_generate_merge @schema ='\"+s+\"',@table_name = '\"+t+\"', @cols_to_exclude = \\\"'Seed'\\\"\"\n",
    "    print (query)\n",
    "    listOfQueries.append(query)\n",
    "    fileName = s+ \".\" + t+\".Data.sql\"\n",
    "    f = open(fileName, \"w+\")\n",
    "    for row in cursor.execute(query):\n",
    "        content = row[0].replace( \"<?x USE e4cs-hor\\rGO\\r\\r\\r\", \"\").replace(\"\\r\\r\\r?>\", \"\")\n",
    "        #print (row)\n",
    "        f.write(content)\n",
    "        \n",
    "    f.close()\n",
    "\n"
   ]
  },
  {
   "cell_type": "markdown",
   "metadata": {},
   "source": [
    "### Insert/Update/Detele "
   ]
  },
  {
   "cell_type": "code",
   "execution_count": null,
   "metadata": {},
   "outputs": [],
   "source": [
    "print ('Inserting a new row into table')\n",
    "#Insert Query\n",
    "tsql = \"INSERT INTO Employees (Name, Location) VALUES (?,?);\"\n",
    "with cursor.execute(tsql,'Jake','United States'):\n",
    "    print ('Successfully Inserted!')\n",
    "\n",
    "\n",
    "#Update Query\n",
    "print ('Updating Location for Nikita')\n",
    "tsql = \"UPDATE Employees SET Location = ? WHERE Name = ?\"\n",
    "with cursor.execute(tsql,'Sweden','Nikita'):\n",
    "    print ('Successfully Updated!')\n",
    "\n",
    "\n",
    "#Delete Query\n",
    "print ('Deleting user Jared')\n",
    "tsql = \"DELETE FROM Employees WHERE Name = ?\"\n",
    "with cursor.execute(tsql,'Jared'):\n",
    "    print ('Successfully Deleted!')\n",
    "\n",
    "\n",
    "#Select Query\n",
    "print ('Reading data from table')\n",
    "tsql = \"SELECT Name, Location FROM Employees;\"\n",
    "with cursor.execute(tsql):\n",
    "    row = cursor.fetchone()\n",
    "    while row:\n",
    "        print (str(row[0]) + \" \" + str(row[1]))\n",
    "        row = cursor.fetchone()"
   ]
  },
  {
   "cell_type": "code",
   "execution_count": null,
   "metadata": {},
   "outputs": [],
   "source": []
  }
 ],
 "metadata": {
  "interpreter": {
   "hash": "31f2aee4e71d21fbe5cf8b01ff0e069b9275f58929596ceb00d14d90e3e16cd6"
  },
  "kernelspec": {
   "display_name": "Python 3.8.5 64-bit",
   "name": "python3"
  },
  "language_info": {
   "name": "python",
   "version": ""
  },
  "metadata": {
   "interpreter": {
    "hash": "31f2aee4e71d21fbe5cf8b01ff0e069b9275f58929596ceb00d14d90e3e16cd6"
   }
  },
  "orig_nbformat": 2
 },
 "nbformat": 4,
 "nbformat_minor": 2
}
